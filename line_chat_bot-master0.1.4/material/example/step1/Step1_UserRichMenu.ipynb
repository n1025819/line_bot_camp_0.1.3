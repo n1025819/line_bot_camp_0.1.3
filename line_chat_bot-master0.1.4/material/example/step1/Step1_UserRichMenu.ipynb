{
 "cells": [
  {
   "cell_type": "code",
   "execution_count": 1,
   "metadata": {},
   "outputs": [
    {
     "data": {
      "text/plain": [
       "'\\n\\n用戶菜單功能介紹\\n\\n    用戶能透過點擊菜單，進行我方希冀之業務功能。\\n    \\n流程\\n    準備菜單的圖面設定檔\\n    讀取安全設定檔上的參數\\n    將菜單設定檔傳給Line\\n    對Line上傳菜單照片\\n    檢視現有的菜單\\n    將菜單與用戶做綁定\\n    將菜單與用戶解除綁定\\n    刪除菜單\\n\\n'"
      ]
     },
     "execution_count": 1,
     "metadata": {},
     "output_type": "execute_result"
    }
   ],
   "source": [
    "'''\n",
    "\n",
    "用戶菜單功能介紹\n",
    "\n",
    "    用戶能透過點擊菜單，進行我方希冀之業務功能。\n",
    "    \n",
    "流程\n",
    "    準備菜單的圖面設定檔\n",
    "    讀取安全設定檔上的參數\n",
    "    將菜單設定檔傳給Line\n",
    "    對Line上傳菜單照片\n",
    "    檢視現有的菜單\n",
    "    將菜單與用戶做綁定\n",
    "    將菜單與用戶解除綁定\n",
    "    刪除菜單\n",
    "\n",
    "'''"
   ]
  },
  {
   "cell_type": "code",
   "execution_count": 2,
   "metadata": {},
   "outputs": [],
   "source": [
    "'''\n",
    "菜單設定檔\n",
    "\n",
    "    設定圖面大小、按鍵名與功能\n",
    "    \n",
    "'''\n",
    "\n",
    "menuRawData=\"\"\"\n",
    "{\n",
    "  \"size\": {\n",
    "    \"width\": 2500,\n",
    "    \"height\": 1686\n",
    "  },\n",
    "  \"selected\": true,\n",
    "  \"name\": \"區塊鏈自定義菜單\",\n",
    "  \"chatBarText\": \"查看更多資訊\",\n",
    "  \"areas\": [\n",
    "    {\n",
    "      \"bounds\": {\n",
    "        \"x\": 5,\n",
    "        \"y\": 0,\n",
    "        \"width\": 824,\n",
    "        \"height\": 850\n",
    "      },\n",
    "      \"action\": {\n",
    "        \"type\": \"message\",\n",
    "        \"text\": \"[::text:]傳統交易\"\n",
    "      }\n",
    "    },\n",
    "    {\n",
    "      \"bounds\": {\n",
    "        \"x\": 0,\n",
    "        \"y\": 850,\n",
    "        \"width\": 825,\n",
    "        \"height\": 818\n",
    "      },\n",
    "      \"action\": {\n",
    "        \"type\": \"message\",\n",
    "        \"text\": \"[::text:]第三方公證人\"\n",
    "      }\n",
    "    },\n",
    "    {\n",
    "      \"bounds\": {\n",
    "        \"x\": 829,\n",
    "        \"y\": 5,\n",
    "        \"width\": 871,\n",
    "        \"height\": 849\n",
    "      },\n",
    "      \"action\": {\n",
    "        \"type\": \"message\",\n",
    "        \"text\": \"[::text:]多位公證人\"\n",
    "      }\n",
    "    },\n",
    "    {\n",
    "      \"bounds\": {\n",
    "        \"x\": 825,\n",
    "        \"y\": 854,\n",
    "        \"width\": 875,\n",
    "        \"height\": 814\n",
    "      },\n",
    "      \"action\": {\n",
    "        \"type\": \"message\",\n",
    "        \"text\": \"[::text:]多組織多位公證人\"\n",
    "      }\n",
    "    },\n",
    "    {\n",
    "      \"bounds\": {\n",
    "        \"x\": 1700,\n",
    "        \"y\": 0,\n",
    "        \"width\": 800,\n",
    "        \"height\": 858\n",
    "      },\n",
    "      \"action\": {\n",
    "        \"type\": \"message\",\n",
    "        \"text\": \"[::text:]教學訊息\"\n",
    "      }\n",
    "    },\n",
    "    {\n",
    "      \"bounds\": {\n",
    "        \"x\": 1700,\n",
    "        \"y\": 858,\n",
    "        \"width\": 800,\n",
    "        \"height\": 810\n",
    "      },\n",
    "      \"action\": {\n",
    "        \"type\": \"message\",\n",
    "        \"text\": \"[::text:]more\"\n",
    "      }\n",
    "    }\n",
    "  ]\n",
    "}\n",
    "\"\"\""
   ]
  },
  {
   "cell_type": "code",
   "execution_count": 3,
   "metadata": {},
   "outputs": [
    {
     "name": "stdout",
     "output_type": "stream",
     "text": [
      "D9oCPKQF9qtKNNFE9Y7Xh90sm48FC/V02s8Q0kxa9c3WXQP/Zhr/7u0erHC1FiOKkNGRtPFuVcNSQgFeM6XR5QFvp2Z+CfAmYlLKw4zXtUCG/wzGedfxs3X8ltAdbsqigZRwBQlQwbFlV8BjVrf+KAdB04t89/1O/w1cDnyilFU=\n",
      "1334661898c1758c8a899a5a4f603d48\n",
      "U8633692756652c60054e28e65760bf8b\n"
     ]
    }
   ],
   "source": [
    "'''\n",
    "\n",
    "讀取安全檔案內的字串，以供後續程式碼調用\n",
    "\n",
    "'''\n",
    "import json\n",
    "secretFileContentJson=json.load(open(\"../line_secret_key\",'r'))\n",
    "\n",
    "print(secretFileContentJson.get(\"channel_access_token\"))\n",
    "print(secretFileContentJson.get(\"secret_key\"))\n",
    "print(secretFileContentJson.get(\"self_user_id\"))\n"
   ]
  },
  {
   "cell_type": "code",
   "execution_count": 4,
   "metadata": {},
   "outputs": [
    {
     "name": "stdout",
     "output_type": "stream",
     "text": [
      "<Response [200]>\n",
      "{\"richMenuId\":\"richmenu-63bc7a36bfe8fecc78e7915aa7307fa3\"}\n"
     ]
    }
   ],
   "source": [
    "'''\n",
    "\n",
    "將先前準備的菜單設定檔，以Post消息寄發給Line\n",
    "\n",
    "    設定Line的遠端位置\n",
    "    設定消息的基本安全憑證\n",
    "    寄發消息，並取得回應之Id\n",
    "    \n",
    "\n",
    "'''\n",
    "\n",
    "import requests\n",
    "\n",
    "menuJson=json.loads(menuRawData)\n",
    "\n",
    "createMenuEndpoint = 'https://api.line.me/v2/bot/richmenu'\n",
    "createMenuRequestHeader={'Content-Type':'application/json','Authorization':'Bearer %s' % secretFileContentJson[\"channel_access_token\"]}\n",
    "\n",
    "#print(createMenuRequestHeader)\n",
    "\n",
    "lineCreateMenuResponse = requests.post(createMenuEndpoint,headers=createMenuRequestHeader,data=json.dumps(menuJson))\n",
    "\n",
    "print(lineCreateMenuResponse)\n",
    "print(lineCreateMenuResponse.text)\n"
   ]
  },
  {
   "cell_type": "code",
   "execution_count": 5,
   "metadata": {},
   "outputs": [
    {
     "name": "stdout",
     "output_type": "stream",
     "text": [
      "richmenu-63bc7a36bfe8fecc78e7915aa7307fa3\n",
      "https://api.line.me/v2/bot/richmenu/richmenu-63bc7a36bfe8fecc78e7915aa7307fa3/content\n",
      "<Response [200]>\n",
      "{}\n"
     ]
    }
   ],
   "source": [
    "'''\n",
    "\n",
    "將先前準備的菜單照片，以Post消息寄發給Line\n",
    "    取得上面設定檔的Id\n",
    "    設定Line的遠端位置\n",
    "    設定消息的基本安全憑證\n",
    "    上傳照片，並取得回傳成果\n",
    "\n",
    "'''\n",
    "\n",
    "# 取得菜單Id \n",
    "uploadRichMenuId=json.loads(lineCreateMenuResponse.text).get(\"richMenuId\")\n",
    "print(uploadRichMenuId)\n",
    "#'https://api.line.me/v2/bot/richmenu/{richMenuId}/content'\n",
    "\n",
    "# 設定Line的遠端位置\n",
    "uploadMenuEndpoint='https://api.line.me/v2/bot/richmenu/%s/content' % uploadRichMenuId\n",
    "print(uploadMenuEndpoint)\n",
    "\n",
    "# 設定消息的基本安全憑證\n",
    "uploadMenuRequestHeader={'Content-Type':'image/jpeg','Authorization':'Bearer %s' % secretFileContentJson[\"channel_access_token\"]}\n",
    "\n",
    "# 上傳照片\n",
    "uploadImageFile=open(\"../images/blockchain_demo.jpg\",'rb')\n",
    "lineUploadMenuResponse=requests.post(uploadMenuEndpoint,headers=uploadMenuRequestHeader,data=uploadImageFile)\n",
    "\n",
    "print(lineUploadMenuResponse)\n",
    "print(lineUploadMenuResponse.text)"
   ]
  },
  {
   "cell_type": "code",
   "execution_count": 6,
   "metadata": {},
   "outputs": [
    {
     "name": "stdout",
     "output_type": "stream",
     "text": [
      "https://api.line.me/v2/bot/user/U8633692756652c60054e28e65760bf8b/richmenu/richmenu-63bc7a36bfe8fecc78e7915aa7307fa3\n",
      "<Response [200]>\n",
      "{}\n"
     ]
    }
   ],
   "source": [
    "'''\n",
    "\n",
    "將選單綁定到特定用戶身上\n",
    "    取出上面得到的菜單Id及用戶id\n",
    "    設定Line的遠端位置\n",
    "    設定消息的基本安全憑證\n",
    "    發送消息告知\n",
    "\n",
    "'''\n",
    "\n",
    "# https://api.line.me/v2/bot/user/{userId}/richmenu/{richMenuId}\n",
    "\n",
    "# 取得菜單id\n",
    "linkRichMenuId=json.loads(lineCreateMenuResponse.text).get(\"richMenuId\")\n",
    "\n",
    "# 將菜單id與用戶id組合成遠端位置\n",
    "linkMenuEndpoint='https://api.line.me/v2/bot/user/%s/richmenu/%s' % (secretFileContentJson[\"self_user_id\"], linkRichMenuId)\n",
    "print(linkMenuEndpoint)\n",
    "\n",
    "# 設定消息基本安全憑證\n",
    "linkMenuRequestHeader={'Content-Type':'image/jpeg','Authorization':'Bearer %s' % secretFileContentJson[\"channel_access_token\"]}\n",
    "\n",
    "# 發送消息\n",
    "lineLinkMenuResponse=requests.post(linkMenuEndpoint,headers=linkMenuRequestHeader)\n",
    "print(lineLinkMenuResponse)\n",
    "print(lineLinkMenuResponse.text)"
   ]
  },
  {
   "cell_type": "code",
   "execution_count": 7,
   "metadata": {},
   "outputs": [
    {
     "name": "stdout",
     "output_type": "stream",
     "text": [
      "https://api.line.me/v2/bot/user/U8633692756652c60054e28e65760bf8b/richmenu\n",
      "<Response [404]>\n",
      "{\"message\":\"the user has no richmenu\",\"details\":[]}\n"
     ]
    }
   ],
   "source": [
    "'''\n",
    "\n",
    "檢視用戶目前所綁定的菜單\n",
    "    取出用戶id\n",
    "    設定Line的遠端位置\n",
    "    設定消息的基本安全憑證\n",
    "    發送消息告知\n",
    "\n",
    "'''\n",
    "\n",
    "#  https://api.line.me/v2/bot/user/{userId}/richmenu\n",
    "\n",
    "# 取出用戶id，設定Line的遠端位置\n",
    "userMenuEndpoint='https://api.line.me/v2/bot/user/%s/richmenu' % (secretFileContentJson[\"self_user_id\"])\n",
    "print(userMenuEndpoint)\n",
    "\n",
    "# 設定消息的基本安全憑證\n",
    "userMenuRequestHeader={'Authorization':'Bearer %s' % secretFileContentJson[\"channel_access_token\"]}\n",
    "\n",
    "# 發送消息告知\n",
    "lineUserMenuResponse=requests.get(userMenuEndpoint,headers=userMenuRequestHeader)\n",
    "print(lineUserMenuResponse)\n",
    "print(lineUserMenuResponse.text)\n"
   ]
  },
  {
   "cell_type": "code",
   "execution_count": 8,
   "metadata": {},
   "outputs": [
    {
     "name": "stdout",
     "output_type": "stream",
     "text": [
      "https://api.line.me/v2/bot/user/U8633692756652c60054e28e65760bf8b/richmenu\n",
      "<Response [200]>\n",
      "{}\n"
     ]
    }
   ],
   "source": [
    "'''\n",
    "\n",
    "解除選單與特定用戶的綁定\n",
    "    取出用戶id\n",
    "    設定Line的遠端位置\n",
    "    設定消息的基本安全憑證\n",
    "    發送消息告知\n",
    "\n",
    "'''\n",
    "\n",
    "# 取出用戶id，設定Line的遠端位置\n",
    "userMenuEndpoint='https://api.line.me/v2/bot/user/%s/richmenu' % (secretFileContentJson[\"self_user_id\"])\n",
    "print(userMenuEndpoint)\n",
    "\n",
    "# 設定消息的基本安全憑證\n",
    "userMenuRequestHeader={'Authorization':'Bearer %s' % secretFileContentJson[\"channel_access_token\"]}\n",
    "\n",
    "# 發送消息告知\n",
    "lineUnregisterUserMenuResponse=requests.delete(userMenuEndpoint,headers=userMenuRequestHeader)\n",
    "print(lineUnregisterUserMenuResponse)\n",
    "print(lineUnregisterUserMenuResponse.text)"
   ]
  },
  {
   "cell_type": "code",
   "execution_count": 9,
   "metadata": {},
   "outputs": [
    {
     "name": "stdout",
     "output_type": "stream",
     "text": [
      "{\"richmenus\":[{\"richMenuId\":\"richmenu-800a7802ab4496cfa908d5f13fbc1293\",\"name\":\"區塊鏈自定義菜單\",\"size\":{\"width\":2500,\"height\":1686},\"chatBarText\":\"查看更多資訊\",\"selected\":true,\"areas\":[{\"bounds\":{\"x\":5,\"y\":0,\"width\":824,\"height\":850},\"action\":{\"type\":\"message\",\"text\":\"*營地推薦\"}},{\"bounds\":{\"x\":0,\"y\":850,\"width\":825,\"height\":818},\"action\":{\"type\":\"message\",\"text\":\"*食譜推薦\"}},{\"bounds\":{\"x\":829,\"y\":5,\"width\":871,\"height\":849},\"action\":{\"type\":\"message\",\"text\":\"*拍照辨識\"}},{\"bounds\":{\"x\":825,\"y\":854,\"width\":875,\"height\":814},\"action\":{\"type\":\"message\",\"text\":\"[::text:]多組織多位公證人\"}},{\"bounds\":{\"x\":1700,\"y\":0,\"width\":800,\"height\":858},\"action\":{\"type\":\"message\",\"text\":\"*營地搜尋\"}},{\"bounds\":{\"x\":1700,\"y\":858,\"width\":800,\"height\":810},\"action\":{\"type\":\"message\",\"text\":\"[::text:]more\"}}]},{\"richMenuId\":\"richmenu-c9c209337d1ced2b201a746cb01eb682\",\"name\":\"區塊鏈自定義菜單\",\"size\":{\"width\":2500,\"height\":1686},\"chatBarText\":\"查看更多資訊\",\"selected\":true,\"areas\":[{\"bounds\":{\"x\":5,\"y\":0,\"width\":824,\"height\":850},\"action\":{\"type\":\"message\",\"text\":\"*營地推薦*營地推薦\"}},{\"bounds\":{\"x\":0,\"y\":850,\"width\":825,\"height\":818},\"action\":{\"type\":\"message\",\"text\":\"*食譜推薦\"}},{\"bounds\":{\"x\":829,\"y\":5,\"width\":871,\"height\":849},\"action\":{\"type\":\"uri\",\"uri\":\"line://nv/camera/\"}},{\"bounds\":{\"x\":825,\"y\":854,\"width\":875,\"height\":814},\"action\":{\"type\":\"message\",\"text\":\"[::text:]多組織多位公證人\"}},{\"bounds\":{\"x\":1700,\"y\":0,\"width\":800,\"height\":858},\"action\":{\"type\":\"message\",\"text\":\"*營地搜尋\"}},{\"bounds\":{\"x\":1700,\"y\":858,\"width\":800,\"height\":810},\"action\":{\"type\":\"message\",\"text\":\"[::text:]more\"}}]},{\"richMenuId\":\"richmenu-63bc7a36bfe8fecc78e7915aa7307fa3\",\"name\":\"區塊鏈自定義菜單\",\"size\":{\"width\":2500,\"height\":1686},\"chatBarText\":\"查看更多資訊\",\"selected\":true,\"areas\":[{\"bounds\":{\"x\":5,\"y\":0,\"width\":824,\"height\":850},\"action\":{\"type\":\"message\",\"text\":\"[::text:]傳統交易\"}},{\"bounds\":{\"x\":0,\"y\":850,\"width\":825,\"height\":818},\"action\":{\"type\":\"message\",\"text\":\"[::text:]第三方公證人\"}},{\"bounds\":{\"x\":829,\"y\":5,\"width\":871,\"height\":849},\"action\":{\"type\":\"message\",\"text\":\"[::text:]多位公證人\"}},{\"bounds\":{\"x\":825,\"y\":854,\"width\":875,\"height\":814},\"action\":{\"type\":\"message\",\"text\":\"[::text:]多組織多位公證人\"}},{\"bounds\":{\"x\":1700,\"y\":0,\"width\":800,\"height\":858},\"action\":{\"type\":\"message\",\"text\":\"[::text:]教學訊息\"}},{\"bounds\":{\"x\":1700,\"y\":858,\"width\":800,\"height\":810},\"action\":{\"type\":\"message\",\"text\":\"[::text:]more\"}}]},{\"richMenuId\":\"richmenu-a5296dda8d2bd30514f04ddfb172e69d\",\"name\":\"區塊鏈自定義菜單\",\"size\":{\"width\":2500,\"height\":1686},\"chatBarText\":\"查看更多資訊\",\"selected\":true,\"areas\":[{\"bounds\":{\"x\":5,\"y\":0,\"width\":824,\"height\":850},\"action\":{\"type\":\"message\",\"text\":\"*營地推薦\"}},{\"bounds\":{\"x\":0,\"y\":850,\"width\":825,\"height\":818},\"action\":{\"type\":\"message\",\"text\":\"*食譜推薦\"}},{\"bounds\":{\"x\":829,\"y\":5,\"width\":871,\"height\":849},\"action\":{\"type\":\"uri\",\"uri\":\"line://nv/camera/\"}},{\"bounds\":{\"x\":825,\"y\":854,\"width\":875,\"height\":814},\"action\":{\"type\":\"message\",\"text\":\"[::text:]多組織多位公證人\"}},{\"bounds\":{\"x\":1700,\"y\":0,\"width\":800,\"height\":858},\"action\":{\"type\":\"message\",\"text\":\"*營地搜尋\"}},{\"bounds\":{\"x\":1700,\"y\":858,\"width\":800,\"height\":810},\"action\":{\"type\":\"message\",\"text\":\"[::text:]more\"}}]},{\"richMenuId\":\"richmenu-da0ff0ad6a7250a0ecc4f6d2d2fad9bd\",\"name\":\"區塊鏈自定義菜單\",\"size\":{\"width\":2500,\"height\":1686},\"chatBarText\":\"查看更多資訊\",\"selected\":true,\"areas\":[{\"bounds\":{\"x\":5,\"y\":0,\"width\":824,\"height\":850},\"action\":{\"type\":\"message\",\"text\":\"*營地推薦\"}},{\"bounds\":{\"x\":0,\"y\":850,\"width\":825,\"height\":818},\"action\":{\"type\":\"message\",\"text\":\"*食譜推薦\"}},{\"bounds\":{\"x\":829,\"y\":5,\"width\":871,\"height\":849},\"action\":{\"type\":\"uri\",\"uri\":\"line://nv/camera/\"}},{\"bounds\":{\"x\":825,\"y\":854,\"width\":875,\"height\":814},\"action\":{\"type\":\"message\",\"text\":\"[::text:]多組織多位公證人\"}},{\"bounds\":{\"x\":1700,\"y\":0,\"width\":800,\"height\":858},\"action\":{\"type\":\"message\",\"text\":\"*營地搜尋\"}},{\"bounds\":{\"x\":1700,\"y\":858,\"width\":800,\"height\":810},\"action\":{\"type\":\"message\",\"text\":\"[::text:]more\"}}]},{\"richMenuId\":\"richmenu-45fb9c509903401763ddb2c3d94d9b66\",\"name\":\"區塊鏈自定義菜單\",\"size\":{\"width\":2500,\"height\":1686},\"chatBarText\":\"查看更多資訊\",\"selected\":true,\"areas\":[{\"bounds\":{\"x\":5,\"y\":0,\"width\":824,\"height\":850},\"action\":{\"type\":\"message\",\"text\":\"*營地推薦\"}},{\"bounds\":{\"x\":0,\"y\":850,\"width\":825,\"height\":818},\"action\":{\"type\":\"message\",\"text\":\"*食譜推薦\"}},{\"bounds\":{\"x\":829,\"y\":5,\"width\":871,\"height\":849},\"action\":{\"type\":\"message\",\"text\":\"*拍照辨識\"}},{\"bounds\":{\"x\":825,\"y\":854,\"width\":875,\"height\":814},\"action\":{\"type\":\"message\",\"text\":\"[::text:]多組織多位公證人\"}},{\"bounds\":{\"x\":1700,\"y\":0,\"width\":800,\"height\":858},\"action\":{\"type\":\"message\",\"text\":\"*營地搜尋\"}},{\"bounds\":{\"x\":1700,\"y\":858,\"width\":800,\"height\":810},\"action\":{\"type\":\"message\",\"text\":\"[::text:]more\"}}]},{\"richMenuId\":\"richmenu-c55ca91b4411686b5174f23b898aa6b3\",\"name\":\"區塊鏈自定義菜單\",\"size\":{\"width\":2500,\"height\":1686},\"chatBarText\":\"查看更多資訊\",\"selected\":true,\"areas\":[{\"bounds\":{\"x\":5,\"y\":0,\"width\":824,\"height\":850},\"action\":{\"type\":\"message\",\"text\":\"*營地推薦\"}},{\"bounds\":{\"x\":0,\"y\":850,\"width\":825,\"height\":818},\"action\":{\"type\":\"message\",\"text\":\"*食譜推薦\"}},{\"bounds\":{\"x\":829,\"y\":5,\"width\":871,\"height\":849},\"action\":{\"type\":\"message\",\"text\":\"*拍照辨識\"}},{\"bounds\":{\"x\":825,\"y\":854,\"width\":875,\"height\":814},\"action\":{\"type\":\"message\",\"text\":\"[::text:]多組織多位公證人\"}},{\"bounds\":{\"x\":1700,\"y\":0,\"width\":800,\"height\":858},\"action\":{\"type\":\"message\",\"text\":\"*營地搜尋\"}},{\"bounds\":{\"x\":1700,\"y\":858,\"width\":800,\"height\":810},\"action\":{\"type\":\"message\",\"text\":\"[::text:]more\"}}]},{\"richMenuId\":\"richmenu-02da8c35a3d22967e3c183799b1813be\",\"name\":\"區塊鏈自定義菜單\",\"size\":{\"width\":2500,\"height\":1686},\"chatBarText\":\"查看更多資訊\",\"selected\":true,\"areas\":[{\"bounds\":{\"x\":5,\"y\":0,\"width\":824,\"height\":850},\"action\":{\"type\":\"message\",\"text\":\"*營地推薦\"}},{\"bounds\":{\"x\":0,\"y\":850,\"width\":825,\"height\":818},\"action\":{\"type\":\"message\",\"text\":\"*食譜推薦\"}},{\"bounds\":{\"x\":829,\"y\":5,\"width\":871,\"height\":849},\"action\":{\"type\":\"uri\",\"uri\":\"line://nv/camera/\"}},{\"bounds\":{\"x\":825,\"y\":854,\"width\":875,\"height\":814},\"action\":{\"type\":\"message\",\"text\":\"[::text:]多組織多位公證人\"}},{\"bounds\":{\"x\":1700,\"y\":0,\"width\":800,\"height\":858},\"action\":{\"type\":\"message\",\"text\":\"*營地搜尋\"}},{\"bounds\":{\"x\":1700,\"y\":858,\"width\":800,\"height\":810},\"action\":{\"type\":\"message\",\"text\":\"[::text:]more\"}}]},{\"richMenuId\":\"richmenu-04e85337c24b9f7a7787c228797c09a5\",\"name\":\"rich_menu\",\"size\":{\"width\":2500,\"height\":1686},\"chatBarText\":\"查看更多資訊\",\"selected\":true,\"areas\":[{\"bounds\":{\"x\":13,\"y\":8,\"width\":1224,\"height\":812},\"action\":{\"type\":\"message\",\"text\":\"[::text:]偏好調查\"}},{\"bounds\":{\"x\":1270,\"y\":8,\"width\":1219,\"height\":808},\"action\":{\"type\":\"message\",\"text\":\"[::text:]營地搜尋\"}},{\"bounds\":{\"x\":17,\"y\":850,\"width\":1220,\"height\":807},\"action\":{\"type\":\"message\",\"text\":\"[::text:]器材辨識\"}},{\"bounds\":{\"x\":1270,\"y\":850,\"width\":1216,\"height\":807},\"action\":{\"type\":\"message\",\"text\":\"[::text:]關於我們\"}}]},{\"richMenuId\":\"richmenu-bceba33a24d1eaf7d717f151b8edd208\",\"name\":\"區塊鏈自定義菜單\",\"size\":{\"width\":2500,\"height\":1686},\"chatBarText\":\"查看更多資訊\",\"selected\":true,\"areas\":[{\"bounds\":{\"x\":5,\"y\":0,\"width\":824,\"height\":850},\"action\":{\"type\":\"message\",\"text\":\"[::text:]傳統交易\"}},{\"bounds\":{\"x\":0,\"y\":850,\"width\":825,\"height\":818},\"action\":{\"type\":\"message\",\"text\":\"[::text:]第三方公證人\"}},{\"bounds\":{\"x\":829,\"y\":5,\"width\":871,\"height\":849},\"action\":{\"type\":\"message\",\"text\":\"[::text:]多位公證人\"}},{\"bounds\":{\"x\":825,\"y\":854,\"width\":875,\"height\":814},\"action\":{\"type\":\"message\",\"text\":\"[::text:]多組織多位公證人\"}},{\"bounds\":{\"x\":1700,\"y\":0,\"width\":800,\"height\":858},\"action\":{\"type\":\"message\",\"text\":\"[::text:]教學訊息\"}},{\"bounds\":{\"x\":1700,\"y\":858,\"width\":800,\"height\":810},\"action\":{\"type\":\"message\",\"text\":\"[::text:]more\"}}]},{\"richMenuId\":\"richmenu-a3a66b0de0c80681a68a2e6d41543e96\",\"name\":\"區塊鏈自定義菜單\",\"size\":{\"width\":2500,\"height\":1686},\"chatBarText\":\"查看更多資訊\",\"selected\":true,\"areas\":[{\"bounds\":{\"x\":5,\"y\":0,\"width\":824,\"height\":850},\"action\":{\"type\":\"message\",\"text\":\"*營地推薦\"}},{\"bounds\":{\"x\":0,\"y\":850,\"width\":825,\"height\":818},\"action\":{\"type\":\"message\",\"text\":\"*食譜推薦\"}},{\"bounds\":{\"x\":829,\"y\":5,\"width\":871,\"height\":849},\"action\":{\"type\":\"message\",\"text\":\"*拍照辨識\"}},{\"bounds\":{\"x\":825,\"y\":854,\"width\":875,\"height\":814},\"action\":{\"type\":\"message\",\"text\":\"[::text:]多組織多位公證人\"}},{\"bounds\":{\"x\":1700,\"y\":0,\"width\":800,\"height\":858},\"action\":{\"type\":\"message\",\"text\":\"*營地搜尋\"}},{\"bounds\":{\"x\":1700,\"y\":858,\"width\":800,\"height\":810},\"action\":{\"type\":\"message\",\"text\":\"[::text:]more\"}}]},{\"richMenuId\":\"richmenu-d9eb7e22de5b0d620df730705b54ec56\",\"name\":\"區塊鏈自定義菜單\",\"size\":{\"width\":2500,\"height\":1686},\"chatBarText\":\"查看更多資訊\",\"selected\":true,\"areas\":[{\"bounds\":{\"x\":5,\"y\":0,\"width\":824,\"height\":850},\"action\":{\"type\":\"message\",\"text\":\"[::text:]傳統交易\"}},{\"bounds\":{\"x\":0,\"y\":850,\"width\":825,\"height\":818},\"action\":{\"type\":\"message\",\"text\":\"[::text:]第三方公證人\"}},{\"bounds\":{\"x\":829,\"y\":5,\"width\":871,\"height\":849},\"action\":{\"type\":\"message\",\"text\":\"[::text:]多位公證人\"}},{\"bounds\":{\"x\":825,\"y\":854,\"width\":875,\"height\":814},\"action\":{\"type\":\"message\",\"text\":\"[::text:]多組織多位公證人\"}},{\"bounds\":{\"x\":1700,\"y\":0,\"width\":800,\"height\":858},\"action\":{\"type\":\"message\",\"text\":\"[::text:]教學訊息\"}},{\"bounds\":{\"x\":1700,\"y\":858,\"width\":800,\"height\":810},\"action\":{\"type\":\"message\",\"text\":\"[::text:]more\"}}]},{\"richMenuId\":\"richmenu-5ba3e016960f6aefe833fa94a483fba9\",\"name\":\"區塊鏈自定義菜單\",\"size\":{\"width\":2500,\"height\":1686},\"chatBarText\":\"查看更多資訊\",\"selected\":true,\"areas\":[{\"bounds\":{\"x\":5,\"y\":0,\"width\":824,\"height\":850},\"action\":{\"type\":\"message\",\"text\":\"*營地推薦\"}},{\"bounds\":{\"x\":0,\"y\":850,\"width\":825,\"height\":818},\"action\":{\"type\":\"message\",\"text\":\"*食譜推薦\"}},{\"bounds\":{\"x\":829,\"y\":5,\"width\":871,\"height\":849},\"action\":{\"type\":\"uri\",\"uri\":\"line://nv/camera/\"}},{\"bounds\":{\"x\":825,\"y\":854,\"width\":875,\"height\":814},\"action\":{\"type\":\"message\",\"text\":\"[::text:]多組織多位公證人\"}},{\"bounds\":{\"x\":1700,\"y\":0,\"width\":800,\"height\":858},\"action\":{\"type\":\"message\",\"text\":\"*營地搜尋\"}},{\"bounds\":{\"x\":1700,\"y\":858,\"width\":800,\"height\":810},\"action\":{\"type\":\"message\",\"text\":\"[::text:]more\"}}]},{\"richMenuId\":\"richmenu-aaad7cbecc75261d5ca0c50591e4b8b2\",\"name\":\"區塊鏈自定義菜單\",\"size\":{\"width\":2500,\"height\":1686},\"chatBarText\":\"查看更多資訊\",\"selected\":true,\"areas\":[{\"bounds\":{\"x\":5,\"y\":0,\"width\":824,\"height\":850},\"action\":{\"type\":\"message\",\"text\":\"*營地推薦\"}},{\"bounds\":{\"x\":0,\"y\":850,\"width\":825,\"height\":818},\"action\":{\"type\":\"message\",\"text\":\"*食譜推薦\"}},{\"bounds\":{\"x\":829,\"y\":5,\"width\":871,\"height\":849},\"action\":{\"type\":\"uri\",\"uri\":\"line://nv/camera/\"}},{\"bounds\":{\"x\":825,\"y\":854,\"width\":875,\"height\":814},\"action\":{\"type\":\"message\",\"text\":\"[::text:]多組織多位公證人\"}},{\"bounds\":{\"x\":1700,\"y\":0,\"width\":800,\"height\":858},\"action\":{\"type\":\"message\",\"text\":\"*營地搜尋\"}},{\"bounds\":{\"x\":1700,\"y\":858,\"width\":800,\"height\":810},\"action\":{\"type\":\"message\",\"text\":\"[::text:]more\"}}]},{\"richMenuId\":\"richmenu-68ce649b5853ab725c93d8dea8fb1417\",\"name\":\"區塊鏈自定義菜單\",\"size\":{\"width\":2500,\"height\":1686},\"chatBarText\":\"查看更多資訊\",\"selected\":true,\"areas\":[{\"bounds\":{\"x\":5,\"y\":0,\"width\":824,\"height\":850},\"action\":{\"type\":\"message\",\"text\":\"*營地推薦\"}},{\"bounds\":{\"x\":0,\"y\":850,\"width\":825,\"height\":818},\"action\":{\"type\":\"message\",\"text\":\"*食譜推薦\"}},{\"bounds\":{\"x\":829,\"y\":5,\"width\":871,\"height\":849},\"action\":{\"type\":\"uri\",\"uri\":\"line://nv/camera/\"}},{\"bounds\":{\"x\":825,\"y\":854,\"width\":875,\"height\":814},\"action\":{\"type\":\"message\",\"text\":\"[::text:]多組織多位公證人\"}},{\"bounds\":{\"x\":1700,\"y\":0,\"width\":800,\"height\":858},\"action\":{\"type\":\"message\",\"text\":\"*營地搜尋\"}},{\"bounds\":{\"x\":1700,\"y\":858,\"width\":800,\"height\":810},\"action\":{\"type\":\"message\",\"text\":\"[::text:]more\"}}]},{\"richMenuId\":\"richmenu-6f5331937a8f289686d425ae442d90a4\",\"name\":\"區塊鏈自定義菜單\",\"size\":{\"width\":2500,\"height\":1686},\"chatBarText\":\"查看更多資訊\",\"selected\":true,\"areas\":[{\"bounds\":{\"x\":5,\"y\":0,\"width\":824,\"height\":850},\"action\":{\"type\":\"message\",\"text\":\"*營地推薦\"}},{\"bounds\":{\"x\":0,\"y\":850,\"width\":825,\"height\":818},\"action\":{\"type\":\"message\",\"text\":\"*食譜推薦\"}},{\"bounds\":{\"x\":829,\"y\":5,\"width\":871,\"height\":849},\"action\":{\"type\":\"message\",\"text\":\"*拍照辨識\"}},{\"bounds\":{\"x\":825,\"y\":854,\"width\":875,\"height\":814},\"action\":{\"type\":\"message\",\"text\":\"[::text:]多組織多位公證人\"}},{\"bounds\":{\"x\":1700,\"y\":0,\"width\":800,\"height\":858},\"action\":{\"type\":\"message\",\"text\":\"*營地搜尋\"}},{\"bounds\":{\"x\":1700,\"y\":858,\"width\":800,\"height\":810},\"action\":{\"type\":\"message\",\"text\":\"[::text:]more\"}}]},{\"richMenuId\":\"richmenu-745572e0b5017cc69151f3f98a800cb7\",\"name\":\"區塊鏈自定義菜單\",\"size\":{\"width\":2500,\"height\":1686},\"chatBarText\":\"查看更多資訊\",\"selected\":true,\"areas\":[{\"bounds\":{\"x\":5,\"y\":0,\"width\":824,\"height\":850},\"action\":{\"type\":\"message\",\"text\":\"*營地推薦*營地推薦\"}},{\"bounds\":{\"x\":0,\"y\":850,\"width\":825,\"height\":818},\"action\":{\"type\":\"message\",\"text\":\"*食譜推薦\"}},{\"bounds\":{\"x\":829,\"y\":5,\"width\":871,\"height\":849},\"action\":{\"type\":\"uri\",\"uri\":\"line://nv/camera/\"}},{\"bounds\":{\"x\":825,\"y\":854,\"width\":875,\"height\":814},\"action\":{\"type\":\"message\",\"text\":\"[::text:]多組織多位公證人\"}},{\"bounds\":{\"x\":1700,\"y\":0,\"width\":800,\"height\":858},\"action\":{\"type\":\"message\",\"text\":\"*營地搜尋\"}},{\"bounds\":{\"x\":1700,\"y\":858,\"width\":800,\"height\":810},\"action\":{\"type\":\"message\",\"text\":\"[::text:]more\"}}]},{\"richMenuId\":\"richmenu-a3564182475f9cf4b4d6763a2c3bb1f6\",\"name\":\"區塊鏈自定義菜單\",\"size\":{\"width\":2500,\"height\":1686},\"chatBarText\":\"查看更多資訊\",\"selected\":true,\"areas\":[{\"bounds\":{\"x\":5,\"y\":0,\"width\":824,\"height\":850},\"action\":{\"type\":\"message\",\"text\":\"[::text:]傳統交易\"}},{\"bounds\":{\"x\":0,\"y\":850,\"width\":825,\"height\":818},\"action\":{\"type\":\"message\",\"text\":\"[::text:]第三方公證人\"}},{\"bounds\":{\"x\":829,\"y\":5,\"width\":871,\"height\":849},\"action\":{\"type\":\"message\",\"text\":\"[::text:]多位公證人\"}},{\"bounds\":{\"x\":825,\"y\":854,\"width\":875,\"height\":814},\"action\":{\"type\":\"message\",\"text\":\"[::text:]多組織多位公證人\"}},{\"bounds\":{\"x\":1700,\"y\":0,\"width\":800,\"height\":858},\"action\":{\"type\":\"message\",\"text\":\"[::text:]教學訊息\"}},{\"bounds\":{\"x\":1700,\"y\":858,\"width\":800,\"height\":810},\"action\":{\"type\":\"message\",\"text\":\"[::text:]more\"}}]},{\"richMenuId\":\"richmenu-dff7a8c5a1214f85cb05bd7e417585e0\",\"name\":\"區塊鏈自定義菜單\",\"size\":{\"width\":2500,\"height\":1686},\"chatBarText\":\"查看更多資訊\",\"selected\":true,\"areas\":[{\"bounds\":{\"x\":5,\"y\":0,\"width\":824,\"height\":850},\"action\":{\"type\":\"message\",\"text\":\"*營地推薦\"}},{\"bounds\":{\"x\":0,\"y\":850,\"width\":825,\"height\":818},\"action\":{\"type\":\"message\",\"text\":\"*食譜推薦\"}},{\"bounds\":{\"x\":829,\"y\":5,\"width\":871,\"height\":849},\"action\":{\"type\":\"uri\",\"uri\":\"line://nv/camera/\"}},{\"bounds\":{\"x\":825,\"y\":854,\"width\":875,\"height\":814},\"action\":{\"type\":\"message\",\"text\":\"[::text:]多組織多位公證人\"}},{\"bounds\":{\"x\":1700,\"y\":0,\"width\":800,\"height\":858},\"action\":{\"type\":\"message\",\"text\":\"*營地搜尋\"}},{\"bounds\":{\"x\":1700,\"y\":858,\"width\":800,\"height\":810},\"action\":{\"type\":\"message\",\"text\":\"[::text:]more\"}}]},{\"richMenuId\":\"richmenu-df3a916d87e746f3ba3a90d56db725e3\",\"name\":\"區塊鏈自定義菜單\",\"size\":{\"width\":2500,\"height\":1686},\"chatBarText\":\"查看更多資訊\",\"selected\":true,\"areas\":[{\"bounds\":{\"x\":5,\"y\":0,\"width\":824,\"height\":850},\"action\":{\"type\":\"message\",\"text\":\"[::text:]傳統交易\"}},{\"bounds\":{\"x\":0,\"y\":850,\"width\":825,\"height\":818},\"action\":{\"type\":\"message\",\"text\":\"[::text:]第三方公證人\"}},{\"bounds\":{\"x\":829,\"y\":5,\"width\":871,\"height\":849},\"action\":{\"type\":\"message\",\"text\":\"[::text:]多位公證人\"}},{\"bounds\":{\"x\":825,\"y\":854,\"width\":875,\"height\":814},\"action\":{\"type\":\"message\",\"text\":\"[::text:]多組織多位公證人\"}},{\"bounds\":{\"x\":1700,\"y\":0,\"width\":800,\"height\":858},\"action\":{\"type\":\"message\",\"text\":\"[::text:]教學訊息\"}},{\"bounds\":{\"x\":1700,\"y\":858,\"width\":800,\"height\":810},\"action\":{\"type\":\"message\",\"text\":\"[::text:]more\"}}]},{\"richMenuId\":\"richmenu-76740ca2579f30ae4e3fca108a7a6737\",\"name\":\"區塊鏈自定義菜單\",\"size\":{\"width\":2500,\"height\":1686},\"chatBarText\":\"查看更多資訊\",\"selected\":true,\"areas\":[{\"bounds\":{\"x\":5,\"y\":0,\"width\":824,\"height\":850},\"action\":{\"type\":\"message\",\"text\":\"[::text:]傳統交易\"}},{\"bounds\":{\"x\":0,\"y\":850,\"width\":825,\"height\":818},\"action\":{\"type\":\"message\",\"text\":\"[::text:]第三方公證人\"}},{\"bounds\":{\"x\":829,\"y\":5,\"width\":871,\"height\":849},\"action\":{\"type\":\"message\",\"text\":\"[::text:]多位公證人\"}},{\"bounds\":{\"x\":825,\"y\":854,\"width\":875,\"height\":814},\"action\":{\"type\":\"message\",\"text\":\"[::text:]多組織多位公證人\"}},{\"bounds\":{\"x\":1700,\"y\":0,\"width\":800,\"height\":858},\"action\":{\"type\":\"message\",\"text\":\"[::text:]教學訊息\"}},{\"bounds\":{\"x\":1700,\"y\":858,\"width\":800,\"height\":810},\"action\":{\"type\":\"message\",\"text\":\"[::text:]more\"}}]},{\"richMenuId\":\"richmenu-603ad9d38cb5c563e17cfdbe5ea3c79c\",\"name\":\"區塊鏈自定義菜單\",\"size\":{\"width\":2500,\"height\":1686},\"chatBarText\":\"查看更多資訊\",\"selected\":true,\"areas\":[{\"bounds\":{\"x\":5,\"y\":0,\"width\":824,\"height\":850},\"action\":{\"type\":\"message\",\"text\":\"[::text:]傳統交易\"}},{\"bounds\":{\"x\":0,\"y\":850,\"width\":825,\"height\":818},\"action\":{\"type\":\"message\",\"text\":\"[::text:]第三方公證人\"}},{\"bounds\":{\"x\":829,\"y\":5,\"width\":871,\"height\":849},\"action\":{\"type\":\"message\",\"text\":\"[::text:]多位公證人\"}},{\"bounds\":{\"x\":825,\"y\":854,\"width\":875,\"height\":814},\"action\":{\"type\":\"message\",\"text\":\"[::text:]多組織多位公證人\"}},{\"bounds\":{\"x\":1700,\"y\":0,\"width\":800,\"height\":858},\"action\":{\"type\":\"message\",\"text\":\"[::text:]教學訊息\"}},{\"bounds\":{\"x\":1700,\"y\":858,\"width\":800,\"height\":810},\"action\":{\"type\":\"message\",\"text\":\"[::text:]more\"}}]}]}\n"
     ]
    }
   ],
   "source": [
    "'''\n",
    "\n",
    "檢視帳號內，有哪些選單\n",
    "    設定Line的遠端位置\n",
    "    設定消息的基本安全憑證\n",
    "    發送消息告知\n",
    "\n",
    "'''\n",
    "\n",
    "# 設定Line的遠端位置\n",
    "listMenuEndpoint=\"https://api.line.me/v2/bot/richmenu/list\"\n",
    "\n",
    "# 設定消息的基本安全憑證\n",
    "listMenuHeader={'Authorization':'Bearer %s' % secretFileContentJson[\"channel_access_token\"]}    \n",
    "\n",
    "# 發送消息告知\n",
    "lineLisrMenuResponse = requests.get(listMenuEndpoint,headers=listMenuHeader)\n",
    "print(lineLisrMenuResponse.text)"
   ]
  },
  {
   "cell_type": "code",
   "execution_count": null,
   "metadata": {},
   "outputs": [],
   "source": []
  }
 ],
 "metadata": {
  "kernelspec": {
   "display_name": "Python 3",
   "language": "python",
   "name": "python3"
  },
  "language_info": {
   "codemirror_mode": {
    "name": "ipython",
    "version": 3
   },
   "file_extension": ".py",
   "mimetype": "text/x-python",
   "name": "python",
   "nbconvert_exporter": "python",
   "pygments_lexer": "ipython3",
   "version": "3.7.3"
  }
 },
 "nbformat": 4,
 "nbformat_minor": 2
}
