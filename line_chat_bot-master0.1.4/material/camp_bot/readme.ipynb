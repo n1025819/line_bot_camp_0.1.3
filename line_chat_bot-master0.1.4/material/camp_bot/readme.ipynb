{
 "cells": [
  {
   "cell_type": "code",
   "execution_count": null,
   "metadata": {},
   "outputs": [],
   "source": [
    "'''\n",
    "$ git clone https://github.com/BingHongLi/line_chat_bot_tutorial.git\n",
    "'''\n",
    "\n",
    "'''\n",
    "$ docker exec -it line-chat-bot-jupyter /bin/bash\n",
    "\n",
    "$ pip install pandas\n",
    "\n",
    "$ pip install scikit-learn\n",
    "\n",
    "$ pip install mysql-connector-python\n",
    "\n",
    "$ pip install keras\n",
    "\n",
    "$ pip install TensorFlow\n",
    "\n",
    "$ pip install selenium\n",
    "\n",
    "跳出container(鍵盤操作): Ctrl + P + Q\n",
    "'''"
   ]
  }
 ],
 "metadata": {
  "kernelspec": {
   "display_name": "Python 3",
   "language": "python",
   "name": "python3"
  },
  "language_info": {
   "codemirror_mode": {
    "name": "ipython",
    "version": 3
   },
   "file_extension": ".py",
   "mimetype": "text/x-python",
   "name": "python",
   "nbconvert_exporter": "python",
   "pygments_lexer": "ipython3",
   "version": "3.7.3"
  }
 },
 "nbformat": 4,
 "nbformat_minor": 2
}
