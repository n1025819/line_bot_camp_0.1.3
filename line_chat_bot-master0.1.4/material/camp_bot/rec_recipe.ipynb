{
 "cells": [
  {
   "cell_type": "code",
   "execution_count": 10,
   "metadata": {},
   "outputs": [
    {
     "name": "stdout",
     "output_type": "stream",
     "text": [
      "             name      tags     score                               url\n",
      "285  日式漢堡排 {露營ok}  豬肉 洋蔥 牛奶  0.861789  https://icook.tw//recipes/153137\n",
      "394  自製鬆餅粉 {露營ok}        牛奶  0.831482   https://icook.tw//recipes/98719\n",
      "295  法式可麗餅 {露營OK}        牛奶  0.831482  https://icook.tw//recipes/148323\n",
      "347          香Q蛋餅        牛奶  0.831482  https://icook.tw//recipes/172307\n",
      "325  日式可麗餅 {露營OK}        牛奶  0.831482  https://icook.tw//recipes/125205\n"
     ]
    }
   ],
   "source": [
    "import pandas as pd\n",
    "from sklearn.feature_extraction.text import TfidfVectorizer\n",
    "from sklearn.metrics.pairwise import cosine_similarity\n",
    "import mysql.connector\n",
    "import traceback\n",
    "\n",
    "def recommend_recipe_sites(user_contents, num):\n",
    "    ret = None\n",
    "    conn = None\n",
    "    try:\n",
    "        cfg = {\n",
    "            \"host\": \"35.229.201.139\",\n",
    "            \"port\": 3306,\n",
    "            \"database\": \"icook_db\",\n",
    "            \"user\": \"iii\",\n",
    "            \"password\": \"Qwer_0987\"\n",
    "        }\n",
    "        conn = mysql.connector.connect(**cfg)\n",
    "        df = pd.read_sql(\"select * from final_result\", conn)\n",
    "        train_series = df[\"tags\"] # Series\n",
    "        test_series = pd.Series(user_contents) # Series\n",
    "#         tokenizer = TfidfVectorizer(analyzer=\"word\", ngram_range=(1, 2), min_df=0, stop_words=\"english\")\n",
    "        tokenizer = TfidfVectorizer()\n",
    "        train_tfidf = tokenizer.fit_transform(train_series)\n",
    "        test_tfidf = tokenizer.transform(test_series)\n",
    "        df_cs = pd.DataFrame(cosine_similarity(test_tfidf, train_tfidf), columns=train_series.index)\n",
    "        df_cs[\"ix_test\"] = test_series.index\n",
    "        # pd.melt(): http://shzhangji.com/cnblogs/2017/09/30/pandas-and-tidy-data/\n",
    "        # frame: 需要處理的數據框；\n",
    "        # id_vars: 保持原樣的數據列；\n",
    "        # value_vars: 需要被轉換成變量值的數據列；\n",
    "        # var_name: 轉換後變量的列名；\n",
    "        # value_name: 數值變量的列名。\n",
    "        score = pd.melt(\n",
    "            df_cs,\n",
    "            id_vars = \"ix_test\",\n",
    "            var_name = \"ix_train\",\n",
    "            value_name = \"score\"\n",
    "        )\n",
    "        df[\"score\"] = score[\"score\"]\n",
    "        # score遞增排序並取出指定的筆數\n",
    "#         df = df.sort_values(by=\"score\")[:-(num+1):-1]\n",
    "        df = df.sort_values(by=[\"score\" ], ascending=[False])\n",
    "        ret = df[[\"name\", \"tags\", \"score\",\"url\"]].head(num)\n",
    "    except Exception as e:\n",
    "        print(\"Error: {}\".format(e))\n",
    "        traceback.print_exc()\n",
    "    finally:\n",
    "        if conn:\n",
    "            conn.close()\n",
    "    return ret\n",
    "    \n",
    "recommend_result = recommend_recipe_sites(user_contents=\"豬肉 牛奶\", num=5)\n",
    "print(recommend_result)"
   ]
  }
 ],
 "metadata": {
  "kernelspec": {
   "display_name": "Python 3",
   "language": "python",
   "name": "python3"
  },
  "language_info": {
   "codemirror_mode": {
    "name": "ipython",
    "version": 3
   },
   "file_extension": ".py",
   "mimetype": "text/x-python",
   "name": "python",
   "nbconvert_exporter": "python",
   "pygments_lexer": "ipython3",
   "version": "3.7.3"
  }
 },
 "nbformat": 4,
 "nbformat_minor": 2
}
